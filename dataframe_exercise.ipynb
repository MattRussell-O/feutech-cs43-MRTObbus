{
  "nbformat": 4,
  "nbformat_minor": 0,
  "metadata": {
    "colab": {
      "provenance": []
    },
    "kernelspec": {
      "name": "python3",
      "display_name": "Python 3"
    },
    "language_info": {
      "name": "python"
    }
  },
  "cells": [
    {
      "cell_type": "markdown",
      "source": [
        "**CREATING A DATAFRAME**"
      ],
      "metadata": {
        "id": "pG8aX3qCvqMT"
      }
    },
    {
      "cell_type": "code",
      "execution_count": null,
      "metadata": {
        "colab": {
          "base_uri": "https://localhost:8080/"
        },
        "id": "3ujnognvhi_W",
        "outputId": "9f4a3a55-473a-43ef-9a4c-3a3e247bfbe0"
      },
      "outputs": [
        {
          "output_type": "stream",
          "name": "stdout",
          "text": [
            "    OrderID     Product     Category  Quantity  Price Customer Region  Total\n",
            "0      1001      Laptop  Electronics         2    800    Alice  North   1600\n",
            "1      1002       Mouse  Accessories         5     20      Bob  South    100\n",
            "2      1003    Keyboard  Accessories         3     50  Charlie   East    150\n",
            "3      1004     Monitor  Electronics         4    200    Diana   West    800\n",
            "4      1005      Laptop  Electronics         1    850    Ethan  North    850\n",
            "5      1006  Headphones  Accessories         6     40    Fiona  South    240\n",
            "6      1007       Mouse  Accessories        10     25   George   East    250\n",
            "7      1008       Chair    Furniture         2    150   Hannah   West    300\n",
            "8      1009        Desk    Furniture         1    300      Ian  North    300\n",
            "9      1010      Laptop  Electronics         3    900     Jane  South   2700\n",
            "10     1011     Printer  Electronics         2    120     Kyle   East    240\n",
            "11     1012    Keyboard  Accessories         4     55    Laura   West    220\n",
            "12     1013     Monitor  Electronics         2    250     Mike  North    500\n",
            "13     1014       Mouse  Accessories         7     20     Nina  South    140\n",
            "14     1015      Laptop  Electronics         5    750    Oscar   East   3750\n",
            "15     1016  Headphones  Accessories         3     35     Paul   West    105\n",
            "16     1017        Desk    Furniture         2    280    Queen  North    560\n",
            "17     1018     Monitor  Electronics         4    220   Robert  South    880\n",
            "18     1019     Printer  Electronics         1    110    Sarah   East    110\n",
            "19     1020       Chair    Furniture         6    180      Tom   West   1080\n"
          ]
        }
      ],
      "source": [
        "import pandas as pd\n",
        "\n",
        "# Sample sales dataset (20 rows)\n",
        "data = {\n",
        "    \"OrderID\": range(1001, 1021),\n",
        "    \"Product\": [\n",
        "        \"Laptop\", \"Mouse\", \"Keyboard\", \"Monitor\", \"Laptop\",\n",
        "        \"Headphones\", \"Mouse\", \"Chair\", \"Desk\", \"Laptop\",\n",
        "        \"Printer\", \"Keyboard\", \"Monitor\", \"Mouse\", \"Laptop\",\n",
        "        \"Headphones\", \"Desk\", \"Monitor\", \"Printer\", \"Chair\"\n",
        "    ],\n",
        "    \"Category\": [\n",
        "        \"Electronics\", \"Accessories\", \"Accessories\", \"Electronics\", \"Electronics\",\n",
        "        \"Accessories\", \"Accessories\", \"Furniture\", \"Furniture\", \"Electronics\",\n",
        "        \"Electronics\", \"Accessories\", \"Electronics\", \"Accessories\", \"Electronics\",\n",
        "        \"Accessories\", \"Furniture\", \"Electronics\", \"Electronics\", \"Furniture\"\n",
        "    ],\n",
        "    \"Quantity\": [2, 5, 3, 4, 1, 6, 10, 2, 1, 3, 2, 4, 2, 7, 5, 3, 2, 4, 1, 6],\n",
        "    \"Price\": [800, 20, 50, 200, 850, 40, 25, 150, 300, 900, 120, 55, 250, 20, 750, 35, 280, 220, 110, 180],\n",
        "    \"Customer\": [\n",
        "        \"Alice\", \"Bob\", \"Charlie\", \"Diana\", \"Ethan\",\n",
        "        \"Fiona\", \"George\", \"Hannah\", \"Ian\", \"Jane\",\n",
        "        \"Kyle\", \"Laura\", \"Mike\", \"Nina\", \"Oscar\",\n",
        "        \"Paul\", \"Queen\", \"Robert\", \"Sarah\", \"Tom\"\n",
        "    ],\n",
        "    \"Region\": [\n",
        "        \"North\", \"South\", \"East\", \"West\", \"North\",\n",
        "        \"South\", \"East\", \"West\", \"North\", \"South\",\n",
        "        \"East\", \"West\", \"North\", \"South\", \"East\",\n",
        "        \"West\", \"North\", \"South\", \"East\", \"West\"\n",
        "    ]\n",
        "}\n",
        "\n",
        "# Create DataFrame\n",
        "df = pd.DataFrame(data)\n",
        "\n",
        "# Compute Total column\n",
        "df[\"Total\"] = df[\"Quantity\"] * df[\"Price\"]\n",
        "\n",
        "print(df)"
      ]
    },
    {
      "cell_type": "markdown",
      "source": [
        "**CREATING A DATAFRAME PT2**"
      ],
      "metadata": {
        "id": "JmiQXaidvwim"
      }
    },
    {
      "cell_type": "code",
      "source": [
        "import pandas as pd\n",
        "\n",
        "# Step 1: Create DataFrame\n",
        "data = {\n",
        "    \"OrderID\": range(1001, 1021),\n",
        "    \"Product\": [\n",
        "        \"Laptop\", \"Mouse\", \"Keyboard\", \"Monitor\", \"Laptop\",\n",
        "        \"Headphones\", \"Mouse\", \"Chair\", \"Desk\", \"Laptop\",\n",
        "        \"Printer\", \"Keyboard\", \"Monitor\", \"Mouse\", \"Laptop\",\n",
        "        \"Headphones\", \"Desk\", \"Monitor\", \"Printer\", \"Chair\"\n",
        "    ],\n",
        "    \"Category\": [\n",
        "        \"Electronics\", \"Accessories\", \"Accessories\", \"Electronics\", \"Electronics\",\n",
        "        \"Accessories\", \"Accessories\", \"Furniture\", \"Furniture\", \"Electronics\",\n",
        "        \"Electronics\", \"Accessories\", \"Electronics\", \"Accessories\", \"Electronics\",\n",
        "        \"Accessories\", \"Furniture\", \"Electronics\", \"Electronics\", \"Furniture\"\n",
        "    ],\n",
        "    \"Quantity\": [2, 5, 3, 4, 1, 6, 10, 2, 1, 3, 2, 4, 2, 7, 5, 3, 2, 4, 1, 6],\n",
        "    \"Price\": [800, 20, 50, 200, 850, 40, 25, 150, 300, 900, 120, 55, 250, 20, 750, 35, 280, 220, 110, 180],\n",
        "    \"Customer\": [\n",
        "        \"Alice\", \"Bob\", \"Charlie\", \"Diana\", \"Ethan\",\n",
        "        \"Fiona\", \"George\", \"Hannah\", \"Ian\", \"Jane\",\n",
        "        \"Kyle\", \"Laura\", \"Mike\", \"Nina\", \"Oscar\",\n",
        "        \"Paul\", \"Queen\", \"Robert\", \"Sarah\", \"Tom\"\n",
        "    ],\n",
        "    \"Region\": [\n",
        "        \"North\", \"South\", \"East\", \"West\", \"North\",\n",
        "        \"South\", \"East\", \"West\", \"North\", \"South\",\n",
        "        \"East\", \"West\", \"North\", \"South\", \"East\",\n",
        "        \"West\", \"North\", \"South\", \"East\", \"West\"\n",
        "    ]\n",
        "}\n",
        "df = pd.DataFrame(data)\n",
        "\n",
        "# Step 2: Show first 5 rows\n",
        "print(f\"The first five rows: {df.head(5)} \\n\")\n",
        "\n",
        "# Step 3: Print DataFrame shape\n",
        "print(f\"Shape: {df.shape} \\n\")\n",
        "\n",
        "# Step 4: Show column names\n",
        "print(f\"Columns: {df.columns} \\n\")"
      ],
      "metadata": {
        "colab": {
          "base_uri": "https://localhost:8080/"
        },
        "id": "sWpaluFBmIsO",
        "outputId": "d36f0942-e070-4267-a092-b46e30c35c7b"
      },
      "execution_count": null,
      "outputs": [
        {
          "output_type": "stream",
          "name": "stdout",
          "text": [
            "The first five rows:    OrderID   Product     Category  Quantity  Price Customer Region\n",
            "0     1001    Laptop  Electronics         2    800    Alice  North\n",
            "1     1002     Mouse  Accessories         5     20      Bob  South\n",
            "2     1003  Keyboard  Accessories         3     50  Charlie   East\n",
            "3     1004   Monitor  Electronics         4    200    Diana   West\n",
            "4     1005    Laptop  Electronics         1    850    Ethan  North \n",
            "\n",
            "Shape: (20, 7) \n",
            "\n",
            "Columns: Index(['OrderID', 'Product', 'Category', 'Quantity', 'Price', 'Customer',\n",
            "       'Region'],\n",
            "      dtype='object') \n",
            "\n"
          ]
        }
      ]
    },
    {
      "cell_type": "markdown",
      "source": [
        "**ADDING A COLUMN**"
      ],
      "metadata": {
        "id": "7KCMrLvov0wk"
      }
    },
    {
      "cell_type": "code",
      "source": [
        "# Compute Total column\n",
        "df[\"Total\"] = df[\"Quantity\"] * df[\"Price\"]\n",
        "\n",
        "# Step 1: Add Discount column (10% if Quantity >= 5 else 0)\n",
        "df[\"Discount\"] = df[\"Quantity\"].apply(lambda x: 0.1 * x if x >= 5 else 0)\n",
        "\n",
        "# Step 2: Add FinalTotal column (Total - discount)\n",
        "df[\"FinalTotal\"] = df[\"Price\"] - df[\"Discount\"]\n",
        "\n",
        "# Step 3: Show selected columns\n",
        "print(df[[\"OrderID\", \"Product\", \"Total\", \"Discount\", \"FinalTotal\"]].filter)"
      ],
      "metadata": {
        "colab": {
          "base_uri": "https://localhost:8080/"
        },
        "id": "80lIKyoCpjHS",
        "outputId": "d6fc1c27-4e5d-4cad-8479-1c41cab2e4df"
      },
      "execution_count": null,
      "outputs": [
        {
          "output_type": "stream",
          "name": "stdout",
          "text": [
            "<bound method NDFrame.filter of     OrderID     Product  Total  Discount  FinalTotal\n",
            "0      1001      Laptop   1600       0.0       800.0\n",
            "1      1002       Mouse    100       0.5        19.5\n",
            "2      1003    Keyboard    150       0.0        50.0\n",
            "3      1004     Monitor    800       0.0       200.0\n",
            "4      1005      Laptop    850       0.0       850.0\n",
            "5      1006  Headphones    240       0.6        39.4\n",
            "6      1007       Mouse    250       1.0        24.0\n",
            "7      1008       Chair    300       0.0       150.0\n",
            "8      1009        Desk    300       0.0       300.0\n",
            "9      1010      Laptop   2700       0.0       900.0\n",
            "10     1011     Printer    240       0.0       120.0\n",
            "11     1012    Keyboard    220       0.0        55.0\n",
            "12     1013     Monitor    500       0.0       250.0\n",
            "13     1014       Mouse    140       0.7        19.3\n",
            "14     1015      Laptop   3750       0.5       749.5\n",
            "15     1016  Headphones    105       0.0        35.0\n",
            "16     1017        Desk    560       0.0       280.0\n",
            "17     1018     Monitor    880       0.0       220.0\n",
            "18     1019     Printer    110       0.0       110.0\n",
            "19     1020       Chair   1080       0.6       179.4>\n"
          ]
        }
      ]
    },
    {
      "cell_type": "markdown",
      "source": [
        "**ADDING A ROW**"
      ],
      "metadata": {
        "id": "xsn1RVw7wFl2"
      }
    },
    {
      "cell_type": "code",
      "source": [
        "import pandas as pd\n",
        "\n",
        "# Step 1: Create new record\n",
        "new_row = {\n",
        "    \"OrderID\": 1021,\n",
        "    \"Product\": \"Tablet\",\n",
        "    \"Category\": \"Electronics\",\n",
        "    \"Quantity\": 2,\n",
        "    \"Price\": 450,\n",
        "    \"Customer\": \"Victor\",\n",
        "    \"Region\": \"East\"\n",
        "}\n",
        "\n",
        "# Step 2: Append to DataFrame\n",
        "df = pd.concat([df, pd.DataFrame([new_row])], ignore_index=True)\n",
        "\n",
        "# Step 3: Recalculate Total\n",
        "df[\"Total\"] = df[\"Quantity\"] * df[\"Price\"]\n",
        "\n",
        "# Step 4: Show last 3 rows\n",
        "print(df.tail(3))"
      ],
      "metadata": {
        "colab": {
          "base_uri": "https://localhost:8080/"
        },
        "id": "y1kpscWWwIuE",
        "outputId": "6b4cd24b-ecc6-498f-bcb4-e33b72397381"
      },
      "execution_count": null,
      "outputs": [
        {
          "output_type": "stream",
          "name": "stdout",
          "text": [
            "    OrderID  Product     Category  Quantity  Price Customer Region  Total  \\\n",
            "18     1019  Printer  Electronics         1    110    Sarah   East    110   \n",
            "19     1020    Chair    Furniture         6    180      Tom   West   1080   \n",
            "20     1021   Tablet  Electronics         2    450   Victor   East    900   \n",
            "\n",
            "    Discount  FinalTotal  \n",
            "18       0.0       110.0  \n",
            "19       0.6       179.4  \n",
            "20       NaN         NaN  \n"
          ]
        }
      ]
    },
    {
      "cell_type": "markdown",
      "source": [
        "**MODIFYING COLUMN VALUES**"
      ],
      "metadata": {
        "id": "nIPBIFmW0aEp"
      }
    },
    {
      "cell_type": "code",
      "source": [
        "# Step 1: Update price of Mouse products\n",
        "df.loc[df[\"Product\"] == \"Mouse\", \"Price\"] = 30\n",
        "\n",
        "# Step 2: Recalculate Total for affected rows\n",
        "df[\"Total\"] = df[\"Quantity\"] * df[\"Price\"]\n",
        "\n",
        "# Step 3: Show only Mouse rows\n",
        "print(df[df[\"Product\"] == \"Mouse\"])"
      ],
      "metadata": {
        "colab": {
          "base_uri": "https://localhost:8080/"
        },
        "id": "JP4FzJnZ0dY0",
        "outputId": "c05c6a08-3039-4bce-8f23-e36b10e554ed"
      },
      "execution_count": null,
      "outputs": [
        {
          "output_type": "stream",
          "name": "stdout",
          "text": [
            "    OrderID Product     Category  Quantity  Price Customer Region  Total  \\\n",
            "1      1002   Mouse  Accessories         5     30      Bob  South    150   \n",
            "6      1007   Mouse  Accessories        10     30   George   East    300   \n",
            "13     1014   Mouse  Accessories         7     30     Nina  South    210   \n",
            "\n",
            "    Discount  FinalTotal  \n",
            "1        0.5        19.5  \n",
            "6        1.0        24.0  \n",
            "13       0.7        19.3  \n"
          ]
        }
      ]
    },
    {
      "cell_type": "markdown",
      "source": [
        "**DELETING A COLUMN**"
      ],
      "metadata": {
        "id": "qVdH2XQ21I-W"
      }
    },
    {
      "cell_type": "code",
      "source": [
        "# Step 1: Drop Discount column\n",
        "df = df.drop(columns=[\"Discount\"])\n",
        "\n",
        "# Step 2: Drop FinalTotal column\n",
        "df = df.drop(columns=[\"FinalTotal\"])\n",
        "\n",
        "# Step 3: Show updated DataFrame\n",
        "print(df.head())"
      ],
      "metadata": {
        "colab": {
          "base_uri": "https://localhost:8080/"
        },
        "id": "ncLvTGAm1MUE",
        "outputId": "e8d8fa87-3ae5-4b6d-abd1-dbd1c01782c1"
      },
      "execution_count": null,
      "outputs": [
        {
          "output_type": "stream",
          "name": "stdout",
          "text": [
            "   OrderID   Product     Category  Quantity  Price Customer Region  Total\n",
            "0     1001    Laptop  Electronics         2    800    Alice  North   1600\n",
            "1     1002     Mouse  Accessories         5     30      Bob  South    150\n",
            "2     1003  Keyboard  Accessories         3     50  Charlie   East    150\n",
            "3     1004   Monitor  Electronics         4    200    Diana   West    800\n",
            "4     1005    Laptop  Electronics         1    850    Ethan  North    850\n"
          ]
        }
      ]
    },
    {
      "cell_type": "markdown",
      "source": [
        "**DELETING A ROW**"
      ],
      "metadata": {
        "id": "_YBsVPzTQHAD"
      }
    },
    {
      "cell_type": "code",
      "source": [
        "# Step 1: Drop row with OrderID = 1010\n",
        "df = df.drop(df[df[\"OrderID\"] == 1010].index, axis=0)\n",
        "print(f\"Columns: {df.columns} \\n\")\n",
        "\n",
        "# Step 2: Drop the first row by index\n",
        "df = df.drop(index=0)\n",
        "\n",
        "# Step 3: Print new shape\n",
        "print(\"New shape:\", df.shape)"
      ],
      "metadata": {
        "id": "Fq0crk1WQJxk",
        "colab": {
          "base_uri": "https://localhost:8080/",
          "height": 445
        },
        "outputId": "b610d414-c414-4f73-db60-fcfe7e3b7ae8"
      },
      "execution_count": null,
      "outputs": [
        {
          "output_type": "stream",
          "name": "stdout",
          "text": [
            "Columns: Index(['OrderID', 'Product', 'Category', 'Quantity', 'Price', 'Customer',\n",
            "       'Region', 'Total'],\n",
            "      dtype='object') \n",
            "\n"
          ]
        },
        {
          "output_type": "error",
          "ename": "KeyError",
          "evalue": "'[0] not found in axis'",
          "traceback": [
            "\u001b[0;31m---------------------------------------------------------------------------\u001b[0m",
            "\u001b[0;31mKeyError\u001b[0m                                  Traceback (most recent call last)",
            "\u001b[0;32m/tmp/ipython-input-2896318055.py\u001b[0m in \u001b[0;36m<cell line: 0>\u001b[0;34m()\u001b[0m\n\u001b[1;32m      4\u001b[0m \u001b[0;34m\u001b[0m\u001b[0m\n\u001b[1;32m      5\u001b[0m \u001b[0;31m# Step 2: Drop the first row by index\u001b[0m\u001b[0;34m\u001b[0m\u001b[0;34m\u001b[0m\u001b[0m\n\u001b[0;32m----> 6\u001b[0;31m \u001b[0mdf\u001b[0m \u001b[0;34m=\u001b[0m \u001b[0mdf\u001b[0m\u001b[0;34m.\u001b[0m\u001b[0mdrop\u001b[0m\u001b[0;34m(\u001b[0m\u001b[0mindex\u001b[0m\u001b[0;34m=\u001b[0m\u001b[0;36m0\u001b[0m\u001b[0;34m)\u001b[0m\u001b[0;34m\u001b[0m\u001b[0;34m\u001b[0m\u001b[0m\n\u001b[0m\u001b[1;32m      7\u001b[0m \u001b[0;34m\u001b[0m\u001b[0m\n\u001b[1;32m      8\u001b[0m \u001b[0;31m# Step 3: Print new shape\u001b[0m\u001b[0;34m\u001b[0m\u001b[0;34m\u001b[0m\u001b[0m\n",
            "\u001b[0;32m/usr/local/lib/python3.12/dist-packages/pandas/core/frame.py\u001b[0m in \u001b[0;36mdrop\u001b[0;34m(self, labels, axis, index, columns, level, inplace, errors)\u001b[0m\n\u001b[1;32m   5579\u001b[0m                 \u001b[0mweight\u001b[0m  \u001b[0;36m1.0\u001b[0m     \u001b[0;36m0.8\u001b[0m\u001b[0;34m\u001b[0m\u001b[0;34m\u001b[0m\u001b[0m\n\u001b[1;32m   5580\u001b[0m         \"\"\"\n\u001b[0;32m-> 5581\u001b[0;31m         return super().drop(\n\u001b[0m\u001b[1;32m   5582\u001b[0m             \u001b[0mlabels\u001b[0m\u001b[0;34m=\u001b[0m\u001b[0mlabels\u001b[0m\u001b[0;34m,\u001b[0m\u001b[0;34m\u001b[0m\u001b[0;34m\u001b[0m\u001b[0m\n\u001b[1;32m   5583\u001b[0m             \u001b[0maxis\u001b[0m\u001b[0;34m=\u001b[0m\u001b[0maxis\u001b[0m\u001b[0;34m,\u001b[0m\u001b[0;34m\u001b[0m\u001b[0;34m\u001b[0m\u001b[0m\n",
            "\u001b[0;32m/usr/local/lib/python3.12/dist-packages/pandas/core/generic.py\u001b[0m in \u001b[0;36mdrop\u001b[0;34m(self, labels, axis, index, columns, level, inplace, errors)\u001b[0m\n\u001b[1;32m   4786\u001b[0m         \u001b[0;32mfor\u001b[0m \u001b[0maxis\u001b[0m\u001b[0;34m,\u001b[0m \u001b[0mlabels\u001b[0m \u001b[0;32min\u001b[0m \u001b[0maxes\u001b[0m\u001b[0;34m.\u001b[0m\u001b[0mitems\u001b[0m\u001b[0;34m(\u001b[0m\u001b[0;34m)\u001b[0m\u001b[0;34m:\u001b[0m\u001b[0;34m\u001b[0m\u001b[0;34m\u001b[0m\u001b[0m\n\u001b[1;32m   4787\u001b[0m             \u001b[0;32mif\u001b[0m \u001b[0mlabels\u001b[0m \u001b[0;32mis\u001b[0m \u001b[0;32mnot\u001b[0m \u001b[0;32mNone\u001b[0m\u001b[0;34m:\u001b[0m\u001b[0;34m\u001b[0m\u001b[0;34m\u001b[0m\u001b[0m\n\u001b[0;32m-> 4788\u001b[0;31m                 \u001b[0mobj\u001b[0m \u001b[0;34m=\u001b[0m \u001b[0mobj\u001b[0m\u001b[0;34m.\u001b[0m\u001b[0m_drop_axis\u001b[0m\u001b[0;34m(\u001b[0m\u001b[0mlabels\u001b[0m\u001b[0;34m,\u001b[0m \u001b[0maxis\u001b[0m\u001b[0;34m,\u001b[0m \u001b[0mlevel\u001b[0m\u001b[0;34m=\u001b[0m\u001b[0mlevel\u001b[0m\u001b[0;34m,\u001b[0m \u001b[0merrors\u001b[0m\u001b[0;34m=\u001b[0m\u001b[0merrors\u001b[0m\u001b[0;34m)\u001b[0m\u001b[0;34m\u001b[0m\u001b[0;34m\u001b[0m\u001b[0m\n\u001b[0m\u001b[1;32m   4789\u001b[0m \u001b[0;34m\u001b[0m\u001b[0m\n\u001b[1;32m   4790\u001b[0m         \u001b[0;32mif\u001b[0m \u001b[0minplace\u001b[0m\u001b[0;34m:\u001b[0m\u001b[0;34m\u001b[0m\u001b[0;34m\u001b[0m\u001b[0m\n",
            "\u001b[0;32m/usr/local/lib/python3.12/dist-packages/pandas/core/generic.py\u001b[0m in \u001b[0;36m_drop_axis\u001b[0;34m(self, labels, axis, level, errors, only_slice)\u001b[0m\n\u001b[1;32m   4828\u001b[0m                 \u001b[0mnew_axis\u001b[0m \u001b[0;34m=\u001b[0m \u001b[0maxis\u001b[0m\u001b[0;34m.\u001b[0m\u001b[0mdrop\u001b[0m\u001b[0;34m(\u001b[0m\u001b[0mlabels\u001b[0m\u001b[0;34m,\u001b[0m \u001b[0mlevel\u001b[0m\u001b[0;34m=\u001b[0m\u001b[0mlevel\u001b[0m\u001b[0;34m,\u001b[0m \u001b[0merrors\u001b[0m\u001b[0;34m=\u001b[0m\u001b[0merrors\u001b[0m\u001b[0;34m)\u001b[0m\u001b[0;34m\u001b[0m\u001b[0;34m\u001b[0m\u001b[0m\n\u001b[1;32m   4829\u001b[0m             \u001b[0;32melse\u001b[0m\u001b[0;34m:\u001b[0m\u001b[0;34m\u001b[0m\u001b[0;34m\u001b[0m\u001b[0m\n\u001b[0;32m-> 4830\u001b[0;31m                 \u001b[0mnew_axis\u001b[0m \u001b[0;34m=\u001b[0m \u001b[0maxis\u001b[0m\u001b[0;34m.\u001b[0m\u001b[0mdrop\u001b[0m\u001b[0;34m(\u001b[0m\u001b[0mlabels\u001b[0m\u001b[0;34m,\u001b[0m \u001b[0merrors\u001b[0m\u001b[0;34m=\u001b[0m\u001b[0merrors\u001b[0m\u001b[0;34m)\u001b[0m\u001b[0;34m\u001b[0m\u001b[0;34m\u001b[0m\u001b[0m\n\u001b[0m\u001b[1;32m   4831\u001b[0m             \u001b[0mindexer\u001b[0m \u001b[0;34m=\u001b[0m \u001b[0maxis\u001b[0m\u001b[0;34m.\u001b[0m\u001b[0mget_indexer\u001b[0m\u001b[0;34m(\u001b[0m\u001b[0mnew_axis\u001b[0m\u001b[0;34m)\u001b[0m\u001b[0;34m\u001b[0m\u001b[0;34m\u001b[0m\u001b[0m\n\u001b[1;32m   4832\u001b[0m \u001b[0;34m\u001b[0m\u001b[0m\n",
            "\u001b[0;32m/usr/local/lib/python3.12/dist-packages/pandas/core/indexes/base.py\u001b[0m in \u001b[0;36mdrop\u001b[0;34m(self, labels, errors)\u001b[0m\n\u001b[1;32m   7068\u001b[0m         \u001b[0;32mif\u001b[0m \u001b[0mmask\u001b[0m\u001b[0;34m.\u001b[0m\u001b[0many\u001b[0m\u001b[0;34m(\u001b[0m\u001b[0;34m)\u001b[0m\u001b[0;34m:\u001b[0m\u001b[0;34m\u001b[0m\u001b[0;34m\u001b[0m\u001b[0m\n\u001b[1;32m   7069\u001b[0m             \u001b[0;32mif\u001b[0m \u001b[0merrors\u001b[0m \u001b[0;34m!=\u001b[0m \u001b[0;34m\"ignore\"\u001b[0m\u001b[0;34m:\u001b[0m\u001b[0;34m\u001b[0m\u001b[0;34m\u001b[0m\u001b[0m\n\u001b[0;32m-> 7070\u001b[0;31m                 \u001b[0;32mraise\u001b[0m \u001b[0mKeyError\u001b[0m\u001b[0;34m(\u001b[0m\u001b[0;34mf\"{labels[mask].tolist()} not found in axis\"\u001b[0m\u001b[0;34m)\u001b[0m\u001b[0;34m\u001b[0m\u001b[0;34m\u001b[0m\u001b[0m\n\u001b[0m\u001b[1;32m   7071\u001b[0m             \u001b[0mindexer\u001b[0m \u001b[0;34m=\u001b[0m \u001b[0mindexer\u001b[0m\u001b[0;34m[\u001b[0m\u001b[0;34m~\u001b[0m\u001b[0mmask\u001b[0m\u001b[0;34m]\u001b[0m\u001b[0;34m\u001b[0m\u001b[0;34m\u001b[0m\u001b[0m\n\u001b[1;32m   7072\u001b[0m         \u001b[0;32mreturn\u001b[0m \u001b[0mself\u001b[0m\u001b[0;34m.\u001b[0m\u001b[0mdelete\u001b[0m\u001b[0;34m(\u001b[0m\u001b[0mindexer\u001b[0m\u001b[0;34m)\u001b[0m\u001b[0;34m\u001b[0m\u001b[0;34m\u001b[0m\u001b[0m\n",
            "\u001b[0;31mKeyError\u001b[0m: '[0] not found in axis'"
          ]
        }
      ]
    },
    {
      "cell_type": "markdown",
      "source": [
        "**SEARCHING WITH CONDITIONS**"
      ],
      "metadata": {
        "id": "Aavwy2JZQLNz"
      }
    },
    {
      "cell_type": "code",
      "source": [
        "# Step 1: Electronics with Quantity >= 3\n",
        "result1 = df[(df[\"Category\"] == \"Electronics\") & (df[\"Quantity\"] >= 3)]\n",
        "print(f\"{result1} \\n\")\n",
        "\n",
        "# Step 2: Products with Price > 500\n",
        "result2 = df[df[\"Price\"] > 500]\n",
        "print(f\"{result2} \\n\")\n",
        "\n",
        "# Step 3: Count orders from North region\n",
        "count_north = df[df[\"Region\"] == \"North\"].value_counts\n",
        "print(\"North orders:\", count_north)"
      ],
      "metadata": {
        "id": "ACatYEnmQSMu",
        "colab": {
          "base_uri": "https://localhost:8080/"
        },
        "outputId": "d7ba4a6a-82c6-4f5d-a02f-de610306bf05"
      },
      "execution_count": null,
      "outputs": [
        {
          "output_type": "stream",
          "name": "stdout",
          "text": [
            "    OrderID  Product     Category  Quantity  Price Customer Region  Total\n",
            "3      1004  Monitor  Electronics         4    200    Diana   West    800\n",
            "14     1015   Laptop  Electronics         5    750    Oscar   East   3750\n",
            "17     1018  Monitor  Electronics         4    220   Robert  South    880 \n",
            "\n",
            "    OrderID Product     Category  Quantity  Price Customer Region  Total\n",
            "4      1005  Laptop  Electronics         1    850    Ethan  North    850\n",
            "14     1015  Laptop  Electronics         5    750    Oscar   East   3750 \n",
            "\n",
            "North orders: <bound method DataFrame.value_counts of     OrderID  Product     Category  Quantity  Price Customer Region  Total\n",
            "4      1005   Laptop  Electronics         1    850    Ethan  North    850\n",
            "8      1009     Desk    Furniture         1    300      Ian  North    300\n",
            "12     1013  Monitor  Electronics         2    250     Mike  North    500\n",
            "16     1017     Desk    Furniture         2    280    Queen  North    560>\n"
          ]
        }
      ]
    },
    {
      "cell_type": "markdown",
      "source": [
        "**FILTERING SPECIFIC VALUES**"
      ],
      "metadata": {
        "id": "muwUqs73QUHj"
      }
    },
    {
      "cell_type": "code",
      "source": [
        "# Step 1: Sales in West region\n",
        "west_sales = df[df[\"Region\"] == \"West\"]\n",
        "print(f\"{west_sales} \\n\")\n",
        "\n",
        "# Step 2: Sales by Alice\n",
        "alice_sales = df[df[\"Customer\"] == \"Alice\"]\n",
        "print(f\"{alice_sales} \\n\")\n",
        "\n",
        "# Step 3: Sales of Laptop or Printer\n",
        "subset_sales = df[df[\"Product\"].isin([\"Laptop\", \"Printer\"])]\n",
        "print(f\"{subset_sales} \\n\")"
      ],
      "metadata": {
        "id": "yqshVNJ0QYEL",
        "colab": {
          "base_uri": "https://localhost:8080/"
        },
        "outputId": "7c458ccf-3d1e-4888-be35-a2fc4e4018d1"
      },
      "execution_count": null,
      "outputs": [
        {
          "output_type": "stream",
          "name": "stdout",
          "text": [
            "    OrderID     Product     Category  Quantity  Price Customer Region  Total\n",
            "3      1004     Monitor  Electronics         4    200    Diana   West    800\n",
            "7      1008       Chair    Furniture         2    150   Hannah   West    300\n",
            "11     1012    Keyboard  Accessories         4     55    Laura   West    220\n",
            "15     1016  Headphones  Accessories         3     35     Paul   West    105\n",
            "19     1020       Chair    Furniture         6    180      Tom   West   1080 \n",
            "\n",
            "Empty DataFrame\n",
            "Columns: [OrderID, Product, Category, Quantity, Price, Customer, Region, Total]\n",
            "Index: [] \n",
            "\n",
            "    OrderID  Product     Category  Quantity  Price Customer Region  Total\n",
            "4      1005   Laptop  Electronics         1    850    Ethan  North    850\n",
            "10     1011  Printer  Electronics         2    120     Kyle   East    240\n",
            "14     1015   Laptop  Electronics         5    750    Oscar   East   3750\n",
            "18     1019  Printer  Electronics         1    110    Sarah   East    110 \n",
            "\n"
          ]
        }
      ]
    },
    {
      "cell_type": "markdown",
      "source": [
        "**UPDATING VALUES BASED ON CONDITION**"
      ],
      "metadata": {
        "id": "whkoYGNOQcIj"
      }
    },
    {
      "cell_type": "code",
      "source": [
        "# Step 1: Increase Price of Furniture by 10%\n",
        "df.loc[df[\"Category\"] == \"Furniture\", \"Price\"] *= 1.1\n",
        "\n",
        "# Step 2: Recalculate Total\n",
        "df[\"Total\"] = df[\"Quantity\"] * df[\"Price\"]\n",
        "\n",
        "# Step 3: Show only Furniture rows\n",
        "print(df[df[\"Category\"] == \"Furniture\"])"
      ],
      "metadata": {
        "id": "6bYGl3e-QiL8",
        "colab": {
          "base_uri": "https://localhost:8080/"
        },
        "outputId": "19bd8a09-dd4b-4257-9b3f-60fa5522b566"
      },
      "execution_count": null,
      "outputs": [
        {
          "output_type": "stream",
          "name": "stdout",
          "text": [
            "    OrderID Product   Category  Quantity  Price Customer Region   Total\n",
            "7      1008   Chair  Furniture         2  18.15   Hannah   West   36.30\n",
            "8      1009    Desk  Furniture         1  36.30      Ian  North   36.30\n",
            "16     1017    Desk  Furniture         2  33.88    Queen  North   67.76\n",
            "19     1020   Chair  Furniture         6  21.78      Tom   West  130.68\n"
          ]
        }
      ]
    },
    {
      "cell_type": "markdown",
      "source": [
        "**SORTING THE DATAFRAME**"
      ],
      "metadata": {
        "id": "H5CwlNsqQjNU"
      }
    },
    {
      "cell_type": "code",
      "source": [
        "# Step 1: Sort by Total descending\n",
        "sorted_df = df.sort_values(by=\"Total\", ascending=False)\n",
        "print(f\"{sorted_df.head()} \\n\")\n",
        "\n",
        "# Step 2: Show top 5 sales\n",
        "print(f\"{sorted_df.head(5)} \\n\")\n",
        "\n",
        "# Step 3: Multi-level sort (Region then Customer)\n",
        "multi_sort = df.sort_values(by=[\"Region\", \"Customer\"])\n",
        "print(f\"{multi_sort.head()} \\n\")"
      ],
      "metadata": {
        "id": "d0xY41hWQne7",
        "colab": {
          "base_uri": "https://localhost:8080/"
        },
        "outputId": "b362c2c0-3444-4a55-9005-86468d6314e9"
      },
      "execution_count": null,
      "outputs": [
        {
          "output_type": "stream",
          "name": "stdout",
          "text": [
            "    OrderID  Product     Category  Quantity  Price Customer Region   Total\n",
            "14     1015   Laptop  Electronics         5  750.0    Oscar   East  3750.0\n",
            "20     1021   Tablet  Electronics         2  450.0   Victor   East   900.0\n",
            "17     1018  Monitor  Electronics         4  220.0   Robert  South   880.0\n",
            "4      1005   Laptop  Electronics         1  850.0    Ethan  North   850.0\n",
            "3      1004  Monitor  Electronics         4  200.0    Diana   West   800.0 \n",
            "\n",
            "    OrderID  Product     Category  Quantity  Price Customer Region   Total\n",
            "14     1015   Laptop  Electronics         5  750.0    Oscar   East  3750.0\n",
            "20     1021   Tablet  Electronics         2  450.0   Victor   East   900.0\n",
            "17     1018  Monitor  Electronics         4  220.0   Robert  South   880.0\n",
            "4      1005   Laptop  Electronics         1  850.0    Ethan  North   850.0\n",
            "3      1004  Monitor  Electronics         4  200.0    Diana   West   800.0 \n",
            "\n",
            "    OrderID   Product     Category  Quantity  Price Customer Region   Total\n",
            "2      1003  Keyboard  Accessories         3   50.0  Charlie   East   150.0\n",
            "6      1007     Mouse  Accessories        10   30.0   George   East   300.0\n",
            "10     1011   Printer  Electronics         2  120.0     Kyle   East   240.0\n",
            "14     1015    Laptop  Electronics         5  750.0    Oscar   East  3750.0\n",
            "18     1019   Printer  Electronics         1  110.0    Sarah   East   110.0 \n",
            "\n"
          ]
        }
      ]
    }
  ]
}